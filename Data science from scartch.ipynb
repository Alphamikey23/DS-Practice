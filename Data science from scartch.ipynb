{
 "cells": [
  {
   "cell_type": "code",
   "execution_count": 1,
   "id": "casual-custom",
   "metadata": {},
   "outputs": [],
   "source": [
    "import numpy as np\n",
    "import pandas as pd"
   ]
  },
  {
   "cell_type": "code",
   "execution_count": 2,
   "id": "conditional-seminar",
   "metadata": {},
   "outputs": [],
   "source": [
    "users = [{\"id\":0,\"name\":\"Hero\"},\n",
    "        {\"id\":1,\"name\":\"Dunn\"},\n",
    "        {\"id\":2,\"name\":\"Sue\"},\n",
    "        {\"id\":3,\"name\":\"Chi\"},\n",
    "        {\"id\":4,\"name\":\"Thor\"},\n",
    "        {\"id\":5,\"name\":\"Clive\"},\n",
    "        {\"id\":6,\"name\":\"Hicks\"},\n",
    "        {\"id\":7,\"name\":\"Devin\"},\n",
    "        {\"id\":8,\"name\":\"Kate\"},\n",
    "        {\"id\":9,\"name\":\"Klein\"}]"
   ]
  },
  {
   "cell_type": "code",
   "execution_count": 3,
   "id": "cultural-excellence",
   "metadata": {},
   "outputs": [
    {
     "data": {
      "text/plain": [
       "list"
      ]
     },
     "execution_count": 3,
     "metadata": {},
     "output_type": "execute_result"
    }
   ],
   "source": [
    "type(users)"
   ]
  },
  {
   "cell_type": "code",
   "execution_count": 4,
   "id": "surgical-access",
   "metadata": {},
   "outputs": [
    {
     "data": {
      "text/plain": [
       "dict"
      ]
     },
     "execution_count": 4,
     "metadata": {},
     "output_type": "execute_result"
    }
   ],
   "source": [
    "type(users[0])"
   ]
  },
  {
   "cell_type": "code",
   "execution_count": 5,
   "id": "metallic-walter",
   "metadata": {},
   "outputs": [],
   "source": [
    "mydict = {\"key\":1,\"value\":\"jay\"}"
   ]
  },
  {
   "cell_type": "code",
   "execution_count": 6,
   "id": "western-setup",
   "metadata": {},
   "outputs": [
    {
     "data": {
      "text/plain": [
       "dict"
      ]
     },
     "execution_count": 6,
     "metadata": {},
     "output_type": "execute_result"
    }
   ],
   "source": [
    "type(mydict)"
   ]
  },
  {
   "cell_type": "code",
   "execution_count": 7,
   "id": "aware-logic",
   "metadata": {},
   "outputs": [],
   "source": [
    "# Friendship Data\n",
    "friendship_pairs = [(0,1),(0,2),(1,2),(1,3),(2,3),(3,4),\n",
    "                   (4,5),(5,6),(5,7),(6,8),(7,8),(8,9)]"
   ]
  },
  {
   "cell_type": "code",
   "execution_count": 8,
   "id": "liberal-present",
   "metadata": {},
   "outputs": [
    {
     "data": {
      "text/plain": [
       "[(0, 1),\n",
       " (0, 2),\n",
       " (1, 2),\n",
       " (1, 3),\n",
       " (2, 3),\n",
       " (3, 4),\n",
       " (4, 5),\n",
       " (5, 6),\n",
       " (5, 7),\n",
       " (6, 8),\n",
       " (7, 8),\n",
       " (8, 9)]"
      ]
     },
     "execution_count": 8,
     "metadata": {},
     "output_type": "execute_result"
    }
   ],
   "source": [
    "friendship_pairs"
   ]
  },
  {
   "cell_type": "code",
   "execution_count": 9,
   "id": "configured-productivity",
   "metadata": {},
   "outputs": [
    {
     "data": {
      "text/plain": [
       "tuple"
      ]
     },
     "execution_count": 9,
     "metadata": {},
     "output_type": "execute_result"
    }
   ],
   "source": [
    "type(friendship_pairs[1])"
   ]
  },
  {
   "cell_type": "code",
   "execution_count": 10,
   "id": "related-contribution",
   "metadata": {},
   "outputs": [
    {
     "data": {
      "text/plain": [
       "(1, 2)"
      ]
     },
     "execution_count": 10,
     "metadata": {},
     "output_type": "execute_result"
    }
   ],
   "source": [
    "friendship_pairs[2]"
   ]
  },
  {
   "cell_type": "code",
   "execution_count": 11,
   "id": "competitive-pantyhose",
   "metadata": {},
   "outputs": [
    {
     "name": "stdout",
     "output_type": "stream",
     "text": [
      "1\n",
      "2\n",
      "2\n",
      "3\n",
      "3\n",
      "4\n",
      "5\n",
      "6\n",
      "7\n",
      "8\n",
      "8\n",
      "9\n"
     ]
    }
   ],
   "source": [
    "for x in friendship_pairs:\n",
    "    print(x[1])"
   ]
  },
  {
   "cell_type": "code",
   "execution_count": 12,
   "id": "victorian-september",
   "metadata": {},
   "outputs": [
    {
     "name": "stdout",
     "output_type": "stream",
     "text": [
      "0\n",
      "0\n",
      "1\n",
      "1\n",
      "2\n",
      "3\n",
      "4\n",
      "5\n",
      "5\n",
      "6\n",
      "7\n",
      "8\n"
     ]
    }
   ],
   "source": [
    "for x in friendship_pairs:\n",
    "    print(x[0])"
   ]
  },
  {
   "cell_type": "code",
   "execution_count": 13,
   "id": "developed-alignment",
   "metadata": {},
   "outputs": [],
   "source": [
    "friendships = {user[\"id\"]:[] for user in users}"
   ]
  },
  {
   "cell_type": "code",
   "execution_count": 14,
   "id": "pointed-horizontal",
   "metadata": {},
   "outputs": [
    {
     "data": {
      "text/plain": [
       "{0: [], 1: [], 2: [], 3: [], 4: [], 5: [], 6: [], 7: [], 8: [], 9: []}"
      ]
     },
     "execution_count": 14,
     "metadata": {},
     "output_type": "execute_result"
    }
   ],
   "source": [
    "\n",
    "friendships"
   ]
  },
  {
   "cell_type": "code",
   "execution_count": 15,
   "id": "abstract-preliminary",
   "metadata": {},
   "outputs": [
    {
     "data": {
      "text/plain": [
       "dict"
      ]
     },
     "execution_count": 15,
     "metadata": {},
     "output_type": "execute_result"
    }
   ],
   "source": [
    "type(friendships)"
   ]
  },
  {
   "cell_type": "code",
   "execution_count": 16,
   "id": "automotive-concord",
   "metadata": {},
   "outputs": [],
   "source": [
    "for i,j in friendship_pairs:\n",
    "    friendships[i].append(j)\n",
    "    friendships[j].append(i)"
   ]
  },
  {
   "cell_type": "code",
   "execution_count": 17,
   "id": "demographic-poster",
   "metadata": {},
   "outputs": [
    {
     "data": {
      "text/plain": [
       "{0: [1, 2],\n",
       " 1: [0, 2, 3],\n",
       " 2: [0, 1, 3],\n",
       " 3: [1, 2, 4],\n",
       " 4: [3, 5],\n",
       " 5: [4, 6, 7],\n",
       " 6: [5, 8],\n",
       " 7: [5, 8],\n",
       " 8: [6, 7, 9],\n",
       " 9: [8]}"
      ]
     },
     "execution_count": 17,
     "metadata": {},
     "output_type": "execute_result"
    }
   ],
   "source": [
    "friendships"
   ]
  },
  {
   "cell_type": "code",
   "execution_count": 18,
   "id": "ranking-northern",
   "metadata": {},
   "outputs": [],
   "source": [
    "#Let's find the no of friends for different user\n",
    "def no_friends(user):\n",
    "    user_id = user[\"id\"]\n",
    "    friend_ids = friendships[user_id]\n",
    "    return len(friend_ids)"
   ]
  },
  {
   "cell_type": "code",
   "execution_count": 19,
   "id": "continental-focus",
   "metadata": {},
   "outputs": [],
   "source": [
    "total_connections = sum(no_friends(user) for user in users)"
   ]
  },
  {
   "cell_type": "code",
   "execution_count": 20,
   "id": "senior-champion",
   "metadata": {},
   "outputs": [
    {
     "data": {
      "text/plain": [
       "24"
      ]
     },
     "execution_count": 20,
     "metadata": {},
     "output_type": "execute_result"
    }
   ],
   "source": [
    "total_connections"
   ]
  },
  {
   "cell_type": "code",
   "execution_count": 21,
   "id": "threaded-animal",
   "metadata": {},
   "outputs": [
    {
     "data": {
      "text/plain": [
       "3"
      ]
     },
     "execution_count": 21,
     "metadata": {},
     "output_type": "execute_result"
    }
   ],
   "source": [
    "#let's find how many friends does Kate has\n",
    "no_friends(users[8])"
   ]
  },
  {
   "cell_type": "code",
   "execution_count": 22,
   "id": "verified-atlantic",
   "metadata": {},
   "outputs": [
    {
     "data": {
      "text/plain": [
       "2"
      ]
     },
     "execution_count": 22,
     "metadata": {},
     "output_type": "execute_result"
    }
   ],
   "source": [
    "no_friends(users[7])"
   ]
  },
  {
   "cell_type": "code",
   "execution_count": 23,
   "id": "speaking-victim",
   "metadata": {},
   "outputs": [],
   "source": [
    "num_users = len(users)\n",
    "avg_connections = total_connections /num_users"
   ]
  },
  {
   "cell_type": "code",
   "execution_count": 24,
   "id": "external-coverage",
   "metadata": {},
   "outputs": [
    {
     "data": {
      "text/plain": [
       "2.4"
      ]
     },
     "execution_count": 24,
     "metadata": {},
     "output_type": "execute_result"
    }
   ],
   "source": [
    "avg_connections"
   ]
  },
  {
   "cell_type": "code",
   "execution_count": 25,
   "id": "upset-palestine",
   "metadata": {},
   "outputs": [
    {
     "data": {
      "text/plain": [
       "10"
      ]
     },
     "execution_count": 25,
     "metadata": {},
     "output_type": "execute_result"
    }
   ],
   "source": [
    "len(users)"
   ]
  },
  {
   "cell_type": "code",
   "execution_count": 26,
   "id": "skilled-replica",
   "metadata": {},
   "outputs": [],
   "source": [
    "num_friends_by_id = [(user[\"id\"], no_friends(user)) for user in users]"
   ]
  },
  {
   "cell_type": "code",
   "execution_count": 27,
   "id": "uniform-metabolism",
   "metadata": {},
   "outputs": [
    {
     "data": {
      "text/plain": [
       "[(0, 2),\n",
       " (1, 3),\n",
       " (2, 3),\n",
       " (3, 3),\n",
       " (4, 2),\n",
       " (5, 3),\n",
       " (6, 2),\n",
       " (7, 2),\n",
       " (8, 3),\n",
       " (9, 1)]"
      ]
     },
     "execution_count": 27,
     "metadata": {},
     "output_type": "execute_result"
    }
   ],
   "source": [
    "num_friends_by_id"
   ]
  },
  {
   "cell_type": "code",
   "execution_count": 28,
   "id": "attended-impression",
   "metadata": {},
   "outputs": [],
   "source": [
    "num_friends_by_id.sort(key=lambda id_and_friends: id_and_friends[1],reverse=True)"
   ]
  },
  {
   "cell_type": "code",
   "execution_count": 29,
   "id": "reserved-feelings",
   "metadata": {},
   "outputs": [
    {
     "data": {
      "text/plain": [
       "[(1, 3),\n",
       " (2, 3),\n",
       " (3, 3),\n",
       " (5, 3),\n",
       " (8, 3),\n",
       " (0, 2),\n",
       " (4, 2),\n",
       " (6, 2),\n",
       " (7, 2),\n",
       " (9, 1)]"
      ]
     },
     "execution_count": 29,
     "metadata": {},
     "output_type": "execute_result"
    }
   ],
   "source": [
    "num_friends_by_id"
   ]
  },
  {
   "cell_type": "code",
   "execution_count": 30,
   "id": "brave-coordination",
   "metadata": {},
   "outputs": [],
   "source": [
    "def foaf_ids_bad(user):\n",
    "    return [foaf_id \n",
    "           for friend_id in friendships[user[\"id\"]]\n",
    "           for foaf_id in friendships[friend_id]]"
   ]
  },
  {
   "cell_type": "code",
   "execution_count": 31,
   "id": "another-retail",
   "metadata": {},
   "outputs": [
    {
     "name": "stdout",
     "output_type": "stream",
     "text": [
      "[1, 2]\n"
     ]
    }
   ],
   "source": [
    "print(friendships[0])"
   ]
  },
  {
   "cell_type": "code",
   "execution_count": 32,
   "id": "supposed-monkey",
   "metadata": {},
   "outputs": [
    {
     "name": "stdout",
     "output_type": "stream",
     "text": [
      "[0, 2, 3]\n"
     ]
    }
   ],
   "source": [
    "print(friendships[1])"
   ]
  },
  {
   "cell_type": "code",
   "execution_count": 33,
   "id": "fabulous-cleaning",
   "metadata": {},
   "outputs": [
    {
     "data": {
      "text/plain": [
       "{'id': 0, 'name': 'Hero'}"
      ]
     },
     "execution_count": 33,
     "metadata": {},
     "output_type": "execute_result"
    }
   ],
   "source": [
    "users[0]"
   ]
  },
  {
   "cell_type": "code",
   "execution_count": 34,
   "id": "engaging-combat",
   "metadata": {},
   "outputs": [
    {
     "data": {
      "text/plain": [
       "[0, 2, 3, 0, 1, 3]"
      ]
     },
     "execution_count": 34,
     "metadata": {},
     "output_type": "execute_result"
    }
   ],
   "source": [
    "foaf_ids_bad(users[0])"
   ]
  },
  {
   "cell_type": "code",
   "execution_count": 35,
   "id": "cellular-preliminary",
   "metadata": {},
   "outputs": [],
   "source": [
    "from collections import Counter\n",
    "\n"
   ]
  },
  {
   "cell_type": "code",
   "execution_count": 36,
   "id": "mediterranean-lounge",
   "metadata": {},
   "outputs": [],
   "source": [
    "def friends_of_friends(user):\n",
    "    user_id = user[\"id\"]\n",
    "    return Counter(foaf_id for friend_id in friendships[user_id]\n",
    "                  for foaf_id in friendships[friend_id]\n",
    "                  if foaf_id != user_id and foaf_id not in friendships[user_id])"
   ]
  },
  {
   "cell_type": "code",
   "execution_count": 37,
   "id": "acquired-clone",
   "metadata": {},
   "outputs": [
    {
     "name": "stdout",
     "output_type": "stream",
     "text": [
      "Counter({0: 2, 5: 1})\n"
     ]
    }
   ],
   "source": [
    "print(friends_of_friends(users[3]))"
   ]
  },
  {
   "cell_type": "code",
   "execution_count": 38,
   "id": "behavioral-opera",
   "metadata": {},
   "outputs": [
    {
     "name": "stdout",
     "output_type": "stream",
     "text": [
      "Counter({4: 1})\n"
     ]
    }
   ],
   "source": [
    "print(friends_of_friends(users[1]))"
   ]
  },
  {
   "cell_type": "code",
   "execution_count": 39,
   "id": "formal-scale",
   "metadata": {},
   "outputs": [],
   "source": [
    "df = pd.read_csv('data2.csv')"
   ]
  },
  {
   "cell_type": "code",
   "execution_count": 40,
   "id": "mature-mexican",
   "metadata": {},
   "outputs": [
    {
     "data": {
      "text/html": [
       "<div>\n",
       "<style scoped>\n",
       "    .dataframe tbody tr th:only-of-type {\n",
       "        vertical-align: middle;\n",
       "    }\n",
       "\n",
       "    .dataframe tbody tr th {\n",
       "        vertical-align: top;\n",
       "    }\n",
       "\n",
       "    .dataframe thead th {\n",
       "        text-align: right;\n",
       "    }\n",
       "</style>\n",
       "<table border=\"1\" class=\"dataframe\">\n",
       "  <thead>\n",
       "    <tr style=\"text-align: right;\">\n",
       "      <th></th>\n",
       "      <th>ID</th>\n",
       "      <th>Interests</th>\n",
       "    </tr>\n",
       "  </thead>\n",
       "  <tbody>\n",
       "    <tr>\n",
       "      <th>0</th>\n",
       "      <td>0</td>\n",
       "      <td>Hadoop</td>\n",
       "    </tr>\n",
       "    <tr>\n",
       "      <th>1</th>\n",
       "      <td>0</td>\n",
       "      <td>Big Data</td>\n",
       "    </tr>\n",
       "    <tr>\n",
       "      <th>2</th>\n",
       "      <td>0</td>\n",
       "      <td>HBase</td>\n",
       "    </tr>\n",
       "    <tr>\n",
       "      <th>3</th>\n",
       "      <td>0</td>\n",
       "      <td>Java</td>\n",
       "    </tr>\n",
       "    <tr>\n",
       "      <th>4</th>\n",
       "      <td>0</td>\n",
       "      <td>Spark</td>\n",
       "    </tr>\n",
       "    <tr>\n",
       "      <th>5</th>\n",
       "      <td>0</td>\n",
       "      <td>Storm</td>\n",
       "    </tr>\n",
       "    <tr>\n",
       "      <th>6</th>\n",
       "      <td>0</td>\n",
       "      <td>Cassandra</td>\n",
       "    </tr>\n",
       "    <tr>\n",
       "      <th>7</th>\n",
       "      <td>1</td>\n",
       "      <td>NoSQL</td>\n",
       "    </tr>\n",
       "    <tr>\n",
       "      <th>8</th>\n",
       "      <td>1</td>\n",
       "      <td>MangoDB</td>\n",
       "    </tr>\n",
       "    <tr>\n",
       "      <th>9</th>\n",
       "      <td>1</td>\n",
       "      <td>Cassandra</td>\n",
       "    </tr>\n",
       "    <tr>\n",
       "      <th>10</th>\n",
       "      <td>1</td>\n",
       "      <td>HBase</td>\n",
       "    </tr>\n",
       "    <tr>\n",
       "      <th>11</th>\n",
       "      <td>1</td>\n",
       "      <td>Postgres</td>\n",
       "    </tr>\n",
       "    <tr>\n",
       "      <th>12</th>\n",
       "      <td>2</td>\n",
       "      <td>Python</td>\n",
       "    </tr>\n",
       "    <tr>\n",
       "      <th>13</th>\n",
       "      <td>2</td>\n",
       "      <td>Scikit-learn</td>\n",
       "    </tr>\n",
       "    <tr>\n",
       "      <th>14</th>\n",
       "      <td>2</td>\n",
       "      <td>scipy</td>\n",
       "    </tr>\n",
       "    <tr>\n",
       "      <th>15</th>\n",
       "      <td>2</td>\n",
       "      <td>numpy</td>\n",
       "    </tr>\n",
       "    <tr>\n",
       "      <th>16</th>\n",
       "      <td>2</td>\n",
       "      <td>statsmodels</td>\n",
       "    </tr>\n",
       "    <tr>\n",
       "      <th>17</th>\n",
       "      <td>2</td>\n",
       "      <td>pandas</td>\n",
       "    </tr>\n",
       "    <tr>\n",
       "      <th>18</th>\n",
       "      <td>3</td>\n",
       "      <td>R</td>\n",
       "    </tr>\n",
       "    <tr>\n",
       "      <th>19</th>\n",
       "      <td>3</td>\n",
       "      <td>Python</td>\n",
       "    </tr>\n",
       "    <tr>\n",
       "      <th>20</th>\n",
       "      <td>3</td>\n",
       "      <td>statistics</td>\n",
       "    </tr>\n",
       "    <tr>\n",
       "      <th>21</th>\n",
       "      <td>3</td>\n",
       "      <td>regression</td>\n",
       "    </tr>\n",
       "    <tr>\n",
       "      <th>22</th>\n",
       "      <td>3</td>\n",
       "      <td>probability</td>\n",
       "    </tr>\n",
       "    <tr>\n",
       "      <th>23</th>\n",
       "      <td>4</td>\n",
       "      <td>machine learning</td>\n",
       "    </tr>\n",
       "    <tr>\n",
       "      <th>24</th>\n",
       "      <td>4</td>\n",
       "      <td>regression</td>\n",
       "    </tr>\n",
       "    <tr>\n",
       "      <th>25</th>\n",
       "      <td>4</td>\n",
       "      <td>decision trees</td>\n",
       "    </tr>\n",
       "    <tr>\n",
       "      <th>26</th>\n",
       "      <td>4</td>\n",
       "      <td>libsvm</td>\n",
       "    </tr>\n",
       "    <tr>\n",
       "      <th>27</th>\n",
       "      <td>5</td>\n",
       "      <td>Python</td>\n",
       "    </tr>\n",
       "    <tr>\n",
       "      <th>28</th>\n",
       "      <td>5</td>\n",
       "      <td>R</td>\n",
       "    </tr>\n",
       "    <tr>\n",
       "      <th>29</th>\n",
       "      <td>5</td>\n",
       "      <td>Java</td>\n",
       "    </tr>\n",
       "    <tr>\n",
       "      <th>30</th>\n",
       "      <td>5</td>\n",
       "      <td>C++</td>\n",
       "    </tr>\n",
       "    <tr>\n",
       "      <th>31</th>\n",
       "      <td>5</td>\n",
       "      <td>Haskell</td>\n",
       "    </tr>\n",
       "    <tr>\n",
       "      <th>32</th>\n",
       "      <td>5</td>\n",
       "      <td>Programming Languages</td>\n",
       "    </tr>\n",
       "    <tr>\n",
       "      <th>33</th>\n",
       "      <td>6</td>\n",
       "      <td>statistics</td>\n",
       "    </tr>\n",
       "    <tr>\n",
       "      <th>34</th>\n",
       "      <td>6</td>\n",
       "      <td>probability</td>\n",
       "    </tr>\n",
       "    <tr>\n",
       "      <th>35</th>\n",
       "      <td>6</td>\n",
       "      <td>mathematics</td>\n",
       "    </tr>\n",
       "    <tr>\n",
       "      <th>36</th>\n",
       "      <td>6</td>\n",
       "      <td>theory</td>\n",
       "    </tr>\n",
       "    <tr>\n",
       "      <th>37</th>\n",
       "      <td>7</td>\n",
       "      <td>machine learning</td>\n",
       "    </tr>\n",
       "    <tr>\n",
       "      <th>38</th>\n",
       "      <td>7</td>\n",
       "      <td>Scikit-learn</td>\n",
       "    </tr>\n",
       "    <tr>\n",
       "      <th>39</th>\n",
       "      <td>7</td>\n",
       "      <td>Mahout</td>\n",
       "    </tr>\n",
       "    <tr>\n",
       "      <th>40</th>\n",
       "      <td>7</td>\n",
       "      <td>neural networks</td>\n",
       "    </tr>\n",
       "    <tr>\n",
       "      <th>41</th>\n",
       "      <td>8</td>\n",
       "      <td>neural networks</td>\n",
       "    </tr>\n",
       "    <tr>\n",
       "      <th>42</th>\n",
       "      <td>8</td>\n",
       "      <td>deep learning</td>\n",
       "    </tr>\n",
       "    <tr>\n",
       "      <th>43</th>\n",
       "      <td>8</td>\n",
       "      <td>Big Data</td>\n",
       "    </tr>\n",
       "    <tr>\n",
       "      <th>44</th>\n",
       "      <td>8</td>\n",
       "      <td>aritificial intelligence</td>\n",
       "    </tr>\n",
       "    <tr>\n",
       "      <th>45</th>\n",
       "      <td>9</td>\n",
       "      <td>Hadoop</td>\n",
       "    </tr>\n",
       "    <tr>\n",
       "      <th>46</th>\n",
       "      <td>9</td>\n",
       "      <td>Java</td>\n",
       "    </tr>\n",
       "    <tr>\n",
       "      <th>47</th>\n",
       "      <td>9</td>\n",
       "      <td>MapReduce</td>\n",
       "    </tr>\n",
       "    <tr>\n",
       "      <th>48</th>\n",
       "      <td>9</td>\n",
       "      <td>Big Data</td>\n",
       "    </tr>\n",
       "  </tbody>\n",
       "</table>\n",
       "</div>"
      ],
      "text/plain": [
       "    ID                 Interests\n",
       "0    0                    Hadoop\n",
       "1    0                  Big Data\n",
       "2    0                     HBase\n",
       "3    0                      Java\n",
       "4    0                     Spark\n",
       "5    0                     Storm\n",
       "6    0                 Cassandra\n",
       "7    1                     NoSQL\n",
       "8    1                   MangoDB\n",
       "9    1                 Cassandra\n",
       "10   1                     HBase\n",
       "11   1                  Postgres\n",
       "12   2                    Python\n",
       "13   2              Scikit-learn\n",
       "14   2                     scipy\n",
       "15   2                     numpy\n",
       "16   2               statsmodels\n",
       "17   2                    pandas\n",
       "18   3                         R\n",
       "19   3                    Python\n",
       "20   3                statistics\n",
       "21   3                regression\n",
       "22   3               probability\n",
       "23   4          machine learning\n",
       "24   4                regression\n",
       "25   4            decision trees\n",
       "26   4                    libsvm\n",
       "27   5                    Python\n",
       "28   5                         R\n",
       "29   5                      Java\n",
       "30   5                       C++\n",
       "31   5                   Haskell\n",
       "32   5     Programming Languages\n",
       "33   6                statistics\n",
       "34   6               probability\n",
       "35   6               mathematics\n",
       "36   6                    theory\n",
       "37   7          machine learning\n",
       "38   7              Scikit-learn\n",
       "39   7                    Mahout\n",
       "40   7           neural networks\n",
       "41   8           neural networks\n",
       "42   8             deep learning\n",
       "43   8                  Big Data\n",
       "44   8  aritificial intelligence\n",
       "45   9                    Hadoop\n",
       "46   9                      Java\n",
       "47   9                 MapReduce\n",
       "48   9                  Big Data"
      ]
     },
     "execution_count": 40,
     "metadata": {},
     "output_type": "execute_result"
    }
   ],
   "source": [
    "df\n"
   ]
  },
  {
   "cell_type": "code",
   "execution_count": 41,
   "id": "warming-adult",
   "metadata": {},
   "outputs": [
    {
     "data": {
      "text/plain": [
       "49"
      ]
     },
     "execution_count": 41,
     "metadata": {},
     "output_type": "execute_result"
    }
   ],
   "source": [
    "len(df)"
   ]
  },
  {
   "cell_type": "code",
   "execution_count": 42,
   "id": "caring-stopping",
   "metadata": {},
   "outputs": [],
   "source": [
    "mylist = []\n",
    "for x in range(0,len(df)):\n",
    "     mylist.append(df.iloc[x])"
   ]
  },
  {
   "cell_type": "code",
   "execution_count": 43,
   "id": "dominican-hungarian",
   "metadata": {},
   "outputs": [],
   "source": [
    "for x in range(0,len(df)):\n",
    "    mylist.append(df.iloc[x])"
   ]
  },
  {
   "cell_type": "code",
   "execution_count": 44,
   "id": "ranking-thumbnail",
   "metadata": {},
   "outputs": [
    {
     "name": "stdout",
     "output_type": "stream",
     "text": [
      "Help on method items in module pandas.core.frame:\n",
      "\n",
      "items() -> Iterable[Tuple[Optional[Hashable], pandas.core.series.Series]] method of pandas.core.frame.DataFrame instance\n",
      "    Iterate over (column name, Series) pairs.\n",
      "    \n",
      "    Iterates over the DataFrame columns, returning a tuple with\n",
      "    the column name and the content as a Series.\n",
      "    \n",
      "    Yields\n",
      "    ------\n",
      "    label : object\n",
      "        The column names for the DataFrame being iterated over.\n",
      "    content : Series\n",
      "        The column entries belonging to each label, as a Series.\n",
      "    \n",
      "    See Also\n",
      "    --------\n",
      "    DataFrame.iterrows : Iterate over DataFrame rows as\n",
      "        (index, Series) pairs.\n",
      "    DataFrame.itertuples : Iterate over DataFrame rows as namedtuples\n",
      "        of the values.\n",
      "    \n",
      "    Examples\n",
      "    --------\n",
      "    >>> df = pd.DataFrame({'species': ['bear', 'bear', 'marsupial'],\n",
      "    ...                   'population': [1864, 22000, 80000]},\n",
      "    ...                   index=['panda', 'polar', 'koala'])\n",
      "    >>> df\n",
      "            species   population\n",
      "    panda   bear      1864\n",
      "    polar   bear      22000\n",
      "    koala   marsupial 80000\n",
      "    >>> for label, content in df.items():\n",
      "    ...     print(f'label: {label}')\n",
      "    ...     print(f'content: {content}', sep='\\n')\n",
      "    ...\n",
      "    label: species\n",
      "    content:\n",
      "    panda         bear\n",
      "    polar         bear\n",
      "    koala    marsupial\n",
      "    Name: species, dtype: object\n",
      "    label: population\n",
      "    content:\n",
      "    panda     1864\n",
      "    polar    22000\n",
      "    koala    80000\n",
      "    Name: population, dtype: int64\n",
      "\n"
     ]
    }
   ],
   "source": [
    "help(df.items)"
   ]
  },
  {
   "cell_type": "code",
   "execution_count": 45,
   "id": "separated-royalty",
   "metadata": {},
   "outputs": [
    {
     "name": "stdout",
     "output_type": "stream",
     "text": [
      "Help on method iterrows in module pandas.core.frame:\n",
      "\n",
      "iterrows() -> Iterable[Tuple[Optional[Hashable], pandas.core.series.Series]] method of pandas.core.frame.DataFrame instance\n",
      "    Iterate over DataFrame rows as (index, Series) pairs.\n",
      "    \n",
      "    Yields\n",
      "    ------\n",
      "    index : label or tuple of label\n",
      "        The index of the row. A tuple for a `MultiIndex`.\n",
      "    data : Series\n",
      "        The data of the row as a Series.\n",
      "    \n",
      "    it : generator\n",
      "        A generator that iterates over the rows of the frame.\n",
      "    \n",
      "    See Also\n",
      "    --------\n",
      "    DataFrame.itertuples : Iterate over DataFrame rows as namedtuples of the values.\n",
      "    DataFrame.items : Iterate over (column name, Series) pairs.\n",
      "    \n",
      "    Notes\n",
      "    -----\n",
      "    1. Because ``iterrows`` returns a Series for each row,\n",
      "       it does **not** preserve dtypes across the rows (dtypes are\n",
      "       preserved across columns for DataFrames). For example,\n",
      "    \n",
      "       >>> df = pd.DataFrame([[1, 1.5]], columns=['int', 'float'])\n",
      "       >>> row = next(df.iterrows())[1]\n",
      "       >>> row\n",
      "       int      1.0\n",
      "       float    1.5\n",
      "       Name: 0, dtype: float64\n",
      "       >>> print(row['int'].dtype)\n",
      "       float64\n",
      "       >>> print(df['int'].dtype)\n",
      "       int64\n",
      "    \n",
      "       To preserve dtypes while iterating over the rows, it is better\n",
      "       to use :meth:`itertuples` which returns namedtuples of the values\n",
      "       and which is generally faster than ``iterrows``.\n",
      "    \n",
      "    2. You should **never modify** something you are iterating over.\n",
      "       This is not guaranteed to work in all cases. Depending on the\n",
      "       data types, the iterator returns a copy and not a view, and writing\n",
      "       to it will have no effect.\n",
      "\n"
     ]
    }
   ],
   "source": [
    "help(df.iterrows)"
   ]
  },
  {
   "cell_type": "code",
   "execution_count": 46,
   "id": "attempted-liberia",
   "metadata": {},
   "outputs": [],
   "source": [
    "mylist = []\n",
    "for x in df.itertuples(index=False):\n",
    "    mylist.append((x[0],x[1]))"
   ]
  },
  {
   "cell_type": "code",
   "execution_count": 47,
   "id": "governmental-credit",
   "metadata": {},
   "outputs": [
    {
     "data": {
      "text/plain": [
       "[(0, 'Hadoop'),\n",
       " (0, 'Big Data'),\n",
       " (0, 'HBase'),\n",
       " (0, 'Java'),\n",
       " (0, 'Spark'),\n",
       " (0, 'Storm'),\n",
       " (0, 'Cassandra'),\n",
       " (1, 'NoSQL'),\n",
       " (1, 'MangoDB'),\n",
       " (1, 'Cassandra'),\n",
       " (1, 'HBase'),\n",
       " (1, 'Postgres'),\n",
       " (2, 'Python'),\n",
       " (2, 'Scikit-learn'),\n",
       " (2, 'scipy'),\n",
       " (2, 'numpy'),\n",
       " (2, 'statsmodels'),\n",
       " (2, 'pandas'),\n",
       " (3, 'R'),\n",
       " (3, 'Python'),\n",
       " (3, 'statistics'),\n",
       " (3, 'regression'),\n",
       " (3, 'probability'),\n",
       " (4, 'machine learning'),\n",
       " (4, 'regression'),\n",
       " (4, 'decision trees'),\n",
       " (4, 'libsvm'),\n",
       " (5, 'Python'),\n",
       " (5, 'R'),\n",
       " (5, 'Java'),\n",
       " (5, 'C++'),\n",
       " (5, 'Haskell'),\n",
       " (5, 'Programming Languages'),\n",
       " (6, 'statistics'),\n",
       " (6, 'probability'),\n",
       " (6, 'mathematics'),\n",
       " (6, 'theory'),\n",
       " (7, 'machine learning'),\n",
       " (7, 'Scikit-learn'),\n",
       " (7, 'Mahout'),\n",
       " (7, 'neural networks'),\n",
       " (8, 'neural networks'),\n",
       " (8, 'deep learning'),\n",
       " (8, 'Big Data'),\n",
       " (8, 'aritificial intelligence'),\n",
       " (9, 'Hadoop'),\n",
       " (9, 'Java'),\n",
       " (9, 'MapReduce'),\n",
       " (9, 'Big Data')]"
      ]
     },
     "execution_count": 47,
     "metadata": {},
     "output_type": "execute_result"
    }
   ],
   "source": [
    "mylist"
   ]
  },
  {
   "cell_type": "code",
   "execution_count": 48,
   "id": "strange-configuration",
   "metadata": {},
   "outputs": [],
   "source": [
    "# we can use the data mylist to find common interests\n",
    "def data_scientists_who_like(target_interest):\n",
    "    return [user_id for user_id,user_interest in mylist\n",
    "           if user_interest == target_interest]"
   ]
  },
  {
   "cell_type": "code",
   "execution_count": 49,
   "id": "initial-clarity",
   "metadata": {},
   "outputs": [],
   "source": [
    "from collections import defaultdict\n",
    "#initiliazing default dictionery \n",
    "user_ids_by_interest = defaultdict(list)"
   ]
  },
  {
   "cell_type": "code",
   "execution_count": 50,
   "id": "hispanic-replica",
   "metadata": {},
   "outputs": [
    {
     "data": {
      "text/plain": [
       "collections.defaultdict"
      ]
     },
     "execution_count": 50,
     "metadata": {},
     "output_type": "execute_result"
    }
   ],
   "source": [
    "type(user_ids_by_interest)"
   ]
  },
  {
   "cell_type": "code",
   "execution_count": 51,
   "id": "plain-toyota",
   "metadata": {},
   "outputs": [],
   "source": [
    "for user_id,interest in mylist:\n",
    "    user_ids_by_interest[interest].append(user_id)"
   ]
  },
  {
   "cell_type": "code",
   "execution_count": 52,
   "id": "deadly-flower",
   "metadata": {},
   "outputs": [
    {
     "data": {
      "text/plain": [
       "defaultdict(list,\n",
       "            {'Hadoop': [0, 9],\n",
       "             'Big Data': [0, 8, 9],\n",
       "             'HBase': [0, 1],\n",
       "             'Java': [0, 5, 9],\n",
       "             'Spark': [0],\n",
       "             'Storm': [0],\n",
       "             'Cassandra': [0, 1],\n",
       "             'NoSQL': [1],\n",
       "             'MangoDB': [1],\n",
       "             'Postgres': [1],\n",
       "             'Python': [2, 3, 5],\n",
       "             'Scikit-learn': [2, 7],\n",
       "             'scipy': [2],\n",
       "             'numpy': [2],\n",
       "             'statsmodels': [2],\n",
       "             'pandas': [2],\n",
       "             'R': [3, 5],\n",
       "             'statistics': [3, 6],\n",
       "             'regression': [3, 4],\n",
       "             'probability': [3, 6],\n",
       "             'machine learning': [4, 7],\n",
       "             'decision trees': [4],\n",
       "             'libsvm': [4],\n",
       "             'C++': [5],\n",
       "             'Haskell': [5],\n",
       "             'Programming Languages': [5],\n",
       "             'mathematics': [6],\n",
       "             'theory': [6],\n",
       "             'Mahout': [7],\n",
       "             'neural networks': [7, 8],\n",
       "             'deep learning': [8],\n",
       "             'aritificial intelligence': [8],\n",
       "             'MapReduce': [9]})"
      ]
     },
     "execution_count": 52,
     "metadata": {},
     "output_type": "execute_result"
    }
   ],
   "source": [
    "user_ids_by_interest"
   ]
  },
  {
   "cell_type": "code",
   "execution_count": 53,
   "id": "sustainable-transfer",
   "metadata": {},
   "outputs": [],
   "source": [
    "# another dictonary that maps interests with user id\n",
    "interests_by_user_id = defaultdict(list)"
   ]
  },
  {
   "cell_type": "code",
   "execution_count": 54,
   "id": "becoming-child",
   "metadata": {},
   "outputs": [],
   "source": [
    "for user_id,interest in mylist:\n",
    "    interests_by_user_id[user_id].append(interest)"
   ]
  },
  {
   "cell_type": "code",
   "execution_count": 55,
   "id": "printable-civilization",
   "metadata": {},
   "outputs": [
    {
     "data": {
      "text/plain": [
       "defaultdict(list,\n",
       "            {0: ['Hadoop',\n",
       "              'Big Data',\n",
       "              'HBase',\n",
       "              'Java',\n",
       "              'Spark',\n",
       "              'Storm',\n",
       "              'Cassandra'],\n",
       "             1: ['NoSQL', 'MangoDB', 'Cassandra', 'HBase', 'Postgres'],\n",
       "             2: ['Python',\n",
       "              'Scikit-learn',\n",
       "              'scipy',\n",
       "              'numpy',\n",
       "              'statsmodels',\n",
       "              'pandas'],\n",
       "             3: ['R', 'Python', 'statistics', 'regression', 'probability'],\n",
       "             4: ['machine learning', 'regression', 'decision trees', 'libsvm'],\n",
       "             5: ['Python',\n",
       "              'R',\n",
       "              'Java',\n",
       "              'C++',\n",
       "              'Haskell',\n",
       "              'Programming Languages'],\n",
       "             6: ['statistics', 'probability', 'mathematics', 'theory'],\n",
       "             7: ['machine learning',\n",
       "              'Scikit-learn',\n",
       "              'Mahout',\n",
       "              'neural networks'],\n",
       "             8: ['neural networks',\n",
       "              'deep learning',\n",
       "              'Big Data',\n",
       "              'aritificial intelligence'],\n",
       "             9: ['Hadoop', 'Java', 'MapReduce', 'Big Data']})"
      ]
     },
     "execution_count": 55,
     "metadata": {},
     "output_type": "execute_result"
    }
   ],
   "source": [
    "interests_by_user_id"
   ]
  },
  {
   "cell_type": "code",
   "execution_count": 56,
   "id": "consistent-lecture",
   "metadata": {},
   "outputs": [],
   "source": [
    "def most_common_interests_with(user):\n",
    "    return Counter(interested_user_id \n",
    "                  for interest in interests_by_user_id[user[\"id\"]]\n",
    "                  for interested_user_id in user_ids_by_interest[interest]\n",
    "                  if interested_user_id != user[\"id\"])"
   ]
  },
  {
   "cell_type": "code",
   "execution_count": 57,
   "id": "based-greeting",
   "metadata": {},
   "outputs": [],
   "source": [
    "# Another problem find salary and years experience\n",
    "salaries_and_tenures = [(83000,8.7),\n",
    "                       (88000,8.1),\n",
    "                       (48000,0.7),\n",
    "                       (76000,6),\n",
    "                       (69000,6.5),\n",
    "                       (76000,7.5),\n",
    "                       (60000,2.5),\n",
    "                       (83000,10),\n",
    "                       (48000,1.9),\n",
    "                       (63000,4.2)]"
   ]
  },
  {
   "cell_type": "code",
   "execution_count": 58,
   "id": "selective-observation",
   "metadata": {},
   "outputs": [],
   "source": [
    "import seaborn as sns"
   ]
  },
  {
   "cell_type": "code",
   "execution_count": 59,
   "id": "worst-organizer",
   "metadata": {},
   "outputs": [
    {
     "data": {
      "text/html": [
       "<div>\n",
       "<style scoped>\n",
       "    .dataframe tbody tr th:only-of-type {\n",
       "        vertical-align: middle;\n",
       "    }\n",
       "\n",
       "    .dataframe tbody tr th {\n",
       "        vertical-align: top;\n",
       "    }\n",
       "\n",
       "    .dataframe thead th {\n",
       "        text-align: right;\n",
       "    }\n",
       "</style>\n",
       "<table border=\"1\" class=\"dataframe\">\n",
       "  <thead>\n",
       "    <tr style=\"text-align: right;\">\n",
       "      <th></th>\n",
       "      <th>salary</th>\n",
       "      <th>experience</th>\n",
       "    </tr>\n",
       "  </thead>\n",
       "  <tbody>\n",
       "    <tr>\n",
       "      <th>0</th>\n",
       "      <td>83000</td>\n",
       "      <td>8.7</td>\n",
       "    </tr>\n",
       "    <tr>\n",
       "      <th>1</th>\n",
       "      <td>88000</td>\n",
       "      <td>8.1</td>\n",
       "    </tr>\n",
       "    <tr>\n",
       "      <th>2</th>\n",
       "      <td>48000</td>\n",
       "      <td>0.7</td>\n",
       "    </tr>\n",
       "    <tr>\n",
       "      <th>3</th>\n",
       "      <td>76000</td>\n",
       "      <td>6.0</td>\n",
       "    </tr>\n",
       "    <tr>\n",
       "      <th>4</th>\n",
       "      <td>69000</td>\n",
       "      <td>6.5</td>\n",
       "    </tr>\n",
       "    <tr>\n",
       "      <th>5</th>\n",
       "      <td>76000</td>\n",
       "      <td>7.5</td>\n",
       "    </tr>\n",
       "    <tr>\n",
       "      <th>6</th>\n",
       "      <td>60000</td>\n",
       "      <td>2.5</td>\n",
       "    </tr>\n",
       "    <tr>\n",
       "      <th>7</th>\n",
       "      <td>83000</td>\n",
       "      <td>10.0</td>\n",
       "    </tr>\n",
       "    <tr>\n",
       "      <th>8</th>\n",
       "      <td>48000</td>\n",
       "      <td>1.9</td>\n",
       "    </tr>\n",
       "    <tr>\n",
       "      <th>9</th>\n",
       "      <td>63000</td>\n",
       "      <td>4.2</td>\n",
       "    </tr>\n",
       "  </tbody>\n",
       "</table>\n",
       "</div>"
      ],
      "text/plain": [
       "   salary  experience\n",
       "0   83000         8.7\n",
       "1   88000         8.1\n",
       "2   48000         0.7\n",
       "3   76000         6.0\n",
       "4   69000         6.5\n",
       "5   76000         7.5\n",
       "6   60000         2.5\n",
       "7   83000        10.0\n",
       "8   48000         1.9\n",
       "9   63000         4.2"
      ]
     },
     "execution_count": 59,
     "metadata": {},
     "output_type": "execute_result"
    }
   ],
   "source": [
    "pd.DataFrame(salaries_and_tenures,columns=['salary','experience'])"
   ]
  },
  {
   "cell_type": "code",
   "execution_count": 60,
   "id": "stable-birmingham",
   "metadata": {},
   "outputs": [],
   "source": [
    "df1 = pd.DataFrame(salaries_and_tenures,columns=['salary','experience'])"
   ]
  },
  {
   "cell_type": "code",
   "execution_count": null,
   "id": "stylish-local",
   "metadata": {},
   "outputs": [],
   "source": []
  },
  {
   "cell_type": "code",
   "execution_count": 61,
   "id": "endangered-transportation",
   "metadata": {},
   "outputs": [
    {
     "name": "stderr",
     "output_type": "stream",
     "text": [
      "/usr/lib/python3/dist-packages/seaborn/_decorators.py:36: FutureWarning: Pass the following variables as keyword args: x, y. From version 0.12, the only valid positional argument will be `data`, and passing other arguments without an explicit keyword will result in an error or misinterpretation.\n",
      "  warnings.warn(\n"
     ]
    },
    {
     "data": {
      "text/plain": [
       "<AxesSubplot:xlabel='salary', ylabel='experience'>"
      ]
     },
     "execution_count": 61,
     "metadata": {},
     "output_type": "execute_result"
    },
    {
     "data": {
      "image/png": "[encoded data removed]",
      "text/plain": [
       "<Figure size 432x288 with 1 Axes>"
      ]
     },
     "metadata": {
      "needs_background": "light"
     },
     "output_type": "display_data"
    }
   ],
   "source": [
    "sns.scatterplot(df1.salary,df1.experience)"
   ]
  },
  {
   "cell_type": "code",
   "execution_count": 62,
   "id": "introductory-biodiversity",
   "metadata": {},
   "outputs": [],
   "source": [
    "salary_by_experience = defaultdict(list)"
   ]
  },
  {
   "cell_type": "code",
   "execution_count": 63,
   "id": "static-bristol",
   "metadata": {},
   "outputs": [],
   "source": [
    "for salary,experience in salaries_and_tenures:\n",
    "    salary_by_experience[experience].append(salary)"
   ]
  },
  {
   "cell_type": "code",
   "execution_count": 64,
   "id": "egyptian-fourth",
   "metadata": {},
   "outputs": [
    {
     "data": {
      "text/plain": [
       "defaultdict(list,\n",
       "            {8.7: [83000],\n",
       "             8.1: [88000],\n",
       "             0.7: [48000],\n",
       "             6: [76000],\n",
       "             6.5: [69000],\n",
       "             7.5: [76000],\n",
       "             2.5: [60000],\n",
       "             10: [83000],\n",
       "             1.9: [48000],\n",
       "             4.2: [63000]})"
      ]
     },
     "execution_count": 64,
     "metadata": {},
     "output_type": "execute_result"
    }
   ],
   "source": [
    "salary_by_experience"
   ]
  },
  {
   "cell_type": "code",
   "execution_count": 65,
   "id": "sporting-clinton",
   "metadata": {},
   "outputs": [
    {
     "data": {
      "text/plain": [
       "dict_items([(8.7, [83000]), (8.1, [88000]), (0.7, [48000]), (6, [76000]), (6.5, [69000]), (7.5, [76000]), (2.5, [60000]), (10, [83000]), (1.9, [48000]), (4.2, [63000])])"
      ]
     },
     "execution_count": 65,
     "metadata": {},
     "output_type": "execute_result"
    }
   ],
   "source": [
    "salary_by_experience.items()"
   ]
  },
  {
   "cell_type": "code",
   "execution_count": 66,
   "id": "equipped-calgary",
   "metadata": {},
   "outputs": [],
   "source": [
    "average_salary_by_experience = {\n",
    "    experience:sum(salaries) / len(salaries)\n",
    "    for experience,salaries in salary_by_experience.items()\n",
    "}"
   ]
  },
  {
   "cell_type": "code",
   "execution_count": 67,
   "id": "conventional-montgomery",
   "metadata": {},
   "outputs": [
    {
     "data": {
      "text/plain": [
       "{8.7: 83000.0,\n",
       " 8.1: 88000.0,\n",
       " 0.7: 48000.0,\n",
       " 6: 76000.0,\n",
       " 6.5: 69000.0,\n",
       " 7.5: 76000.0,\n",
       " 2.5: 60000.0,\n",
       " 10: 83000.0,\n",
       " 1.9: 48000.0,\n",
       " 4.2: 63000.0}"
      ]
     },
     "execution_count": 67,
     "metadata": {},
     "output_type": "execute_result"
    }
   ],
   "source": [
    "average_salary_by_experience"
   ]
  },
  {
   "cell_type": "code",
   "execution_count": 68,
   "id": "corresponding-effectiveness",
   "metadata": {},
   "outputs": [],
   "source": [
    "def experience_bucket(experience):\n",
    "    if experience < 2:\n",
    "        return \"less than two\"\n",
    "    elif experience < 5:\n",
    "        return \"between two and five\"\n",
    "    else:\n",
    "        return \"more than five\""
   ]
  },
  {
   "cell_type": "code",
   "execution_count": 69,
   "id": "supposed-victim",
   "metadata": {},
   "outputs": [],
   "source": [
    "salary_by_experience_bucket = defaultdict(list)"
   ]
  },
  {
   "cell_type": "code",
   "execution_count": 72,
   "id": "transparent-sociology",
   "metadata": {},
   "outputs": [],
   "source": [
    "for salary,experience in salaries_and_tenures:\n",
    "    bucket = experience_bucket(experience)\n",
    "    salary_by_experience_bucket[bucket].append(salary)"
   ]
  },
  {
   "cell_type": "code",
   "execution_count": 73,
   "id": "aquatic-insertion",
   "metadata": {},
   "outputs": [
    {
     "data": {
      "text/plain": [
       "'between two and five'"
      ]
     },
     "execution_count": 73,
     "metadata": {},
     "output_type": "execute_result"
    }
   ],
   "source": [
    "bucket"
   ]
  },
  {
   "cell_type": "code",
   "execution_count": 74,
   "id": "banned-sugar",
   "metadata": {},
   "outputs": [
    {
     "data": {
      "text/plain": [
       "defaultdict(list,\n",
       "            {8.7: [83000],\n",
       "             8.1: [88000],\n",
       "             0.7: [48000],\n",
       "             6: [76000],\n",
       "             6.5: [69000],\n",
       "             7.5: [76000],\n",
       "             2.5: [60000],\n",
       "             10: [83000],\n",
       "             1.9: [48000],\n",
       "             4.2: [63000]})"
      ]
     },
     "execution_count": 74,
     "metadata": {},
     "output_type": "execute_result"
    }
   ],
   "source": [
    "salary_by_experience"
   ]
  },
  {
   "cell_type": "code",
   "execution_count": 75,
   "id": "coordinate-minimum",
   "metadata": {},
   "outputs": [],
   "source": [
    "average_salary_by_bucket = {\n",
    "    experience_bucket: sum(salaries) / len(salaries)\n",
    "    for tenure_bucket,salaries in salary_by_experience_bucket.items()\n",
    "}"
   ]
  },
  {
   "cell_type": "code",
   "execution_count": 76,
   "id": "dental-latvia",
   "metadata": {},
   "outputs": [
    {
     "data": {
      "text/plain": [
       "{<function __main__.experience_bucket(experience)>: 61500.0}"
      ]
     },
     "execution_count": 76,
     "metadata": {},
     "output_type": "execute_result"
    }
   ],
   "source": [
    "average_salary_by_bucket"
   ]
  },
  {
   "cell_type": "code",
   "execution_count": 78,
   "id": "latin-marsh",
   "metadata": {},
   "outputs": [],
   "source": [
    "words_and_counts = Counter(word\n",
    "                          for user,interest in mylist\n",
    "                          for word in interest.lower().split())"
   ]
  },
  {
   "cell_type": "code",
   "execution_count": 79,
   "id": "floating-screen",
   "metadata": {},
   "outputs": [
    {
     "data": {
      "text/plain": [
       "Counter({'hadoop': 2,\n",
       "         'big': 3,\n",
       "         'data': 3,\n",
       "         'hbase': 2,\n",
       "         'java': 3,\n",
       "         'spark': 1,\n",
       "         'storm': 1,\n",
       "         'cassandra': 2,\n",
       "         'nosql': 1,\n",
       "         'mangodb': 1,\n",
       "         'postgres': 1,\n",
       "         'python': 3,\n",
       "         'scikit-learn': 2,\n",
       "         'scipy': 1,\n",
       "         'numpy': 1,\n",
       "         'statsmodels': 1,\n",
       "         'pandas': 1,\n",
       "         'r': 2,\n",
       "         'statistics': 2,\n",
       "         'regression': 2,\n",
       "         'probability': 2,\n",
       "         'machine': 2,\n",
       "         'learning': 3,\n",
       "         'decision': 1,\n",
       "         'trees': 1,\n",
       "         'libsvm': 1,\n",
       "         'c++': 1,\n",
       "         'haskell': 1,\n",
       "         'programming': 1,\n",
       "         'languages': 1,\n",
       "         'mathematics': 1,\n",
       "         'theory': 1,\n",
       "         'mahout': 1,\n",
       "         'neural': 2,\n",
       "         'networks': 2,\n",
       "         'deep': 1,\n",
       "         'aritificial': 1,\n",
       "         'intelligence': 1,\n",
       "         'mapreduce': 1})"
      ]
     },
     "execution_count": 79,
     "metadata": {},
     "output_type": "execute_result"
    }
   ],
   "source": [
    "words_and_counts\n"
   ]
  },
  {
   "cell_type": "code",
   "execution_count": 80,
   "id": "lonely-floating",
   "metadata": {},
   "outputs": [
    {
     "name": "stdout",
     "output_type": "stream",
     "text": [
      "big 3\n",
      "data 3\n",
      "java 3\n",
      "python 3\n",
      "learning 3\n",
      "hadoop 2\n",
      "hbase 2\n",
      "cassandra 2\n",
      "scikit-learn 2\n",
      "r 2\n",
      "statistics 2\n",
      "regression 2\n",
      "probability 2\n",
      "machine 2\n",
      "neural 2\n",
      "networks 2\n"
     ]
    }
   ],
   "source": [
    "for word,count in words_and_counts.most_common():\n",
    "    if count > 1:\n",
    "        print(word,count)"
   ]
  },
  {
   "cell_type": "code",
   "execution_count": 82,
   "id": "operating-classification",
   "metadata": {},
   "outputs": [
    {
     "ename": "NameError",
     "evalue": "name 'most_common' is not defined",
     "output_type": "error",
     "traceback": [
      "\u001b[0;31m---------------------------------------------------------------------------\u001b[0m",
      "\u001b[0;31mNameError\u001b[0m                                 Traceback (most recent call last)",
      "\u001b[0;32m<ipython-input-82-8e6cb5344915>\u001b[0m in \u001b[0;36m<module>\u001b[0;34m\u001b[0m\n\u001b[0;32m----> 1\u001b[0;31m \u001b[0mhelp\u001b[0m\u001b[0;34m(\u001b[0m\u001b[0mmost_common\u001b[0m\u001b[0;34m(\u001b[0m\u001b[0;34m)\u001b[0m\u001b[0;34m)\u001b[0m\u001b[0;34m\u001b[0m\u001b[0;34m\u001b[0m\u001b[0m\n\u001b[0m",
      "\u001b[0;31mNameError\u001b[0m: name 'most_common' is not defined"
     ]
    }
   ],
   "source": [
    "help(most_common())"
   ]
  },
  {
   "cell_type": "code",
   "execution_count": null,
   "id": "handled-pollution",
   "metadata": {},
   "outputs": [],
   "source": []
  }
 ],
 "metadata": {
  "kernelspec": {
   "display_name": "Python 3",
   "language": "python",
   "name": "python3"
  },
  "language_info": {
   "codemirror_mode": {
    "name": "ipython",
    "version": 3
   },
   "file_extension": ".py",
   "mimetype": "text/x-python",
   "name": "python",
   "nbconvert_exporter": "python",
   "pygments_lexer": "ipython3",
   "version": "3.9.2"
  }
 },
 "nbformat": 4,
 "nbformat_minor": 5
}
